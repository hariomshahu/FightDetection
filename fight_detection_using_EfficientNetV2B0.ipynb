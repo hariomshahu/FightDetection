{
  "nbformat": 4,
  "nbformat_minor": 0,
  "metadata": {
    "colab": {
      "provenance": [],
      "machine_shape": "hm",
      "gpuType": "A100",
      "authorship_tag": "ABX9TyNqVrgv9Yhzci6tFfM83pGP",
      "include_colab_link": true
    },
    "kernelspec": {
      "name": "python3",
      "display_name": "Python 3"
    },
    "language_info": {
      "name": "python"
    },
    "accelerator": "GPU"
  },
  "cells": [
    {
      "cell_type": "markdown",
      "metadata": {
        "id": "view-in-github",
        "colab_type": "text"
      },
      "source": [
        "<a href=\"https://colab.research.google.com/github/hariomshahu/FightDetection/blob/EfficientNetV2B0_3DCNN_For_TemporalInfo/fight_detection_using_EfficientNetV2B0.ipynb\" target=\"_parent\"><img src=\"https://colab.research.google.com/assets/colab-badge.svg\" alt=\"Open In Colab\"/></a>"
      ]
    },
    {
      "cell_type": "code",
      "execution_count": 1,
      "metadata": {
        "id": "d-mpwL1uJw6x",
        "colab": {
          "base_uri": "https://localhost:8080/"
        },
        "outputId": "c7117c30-1faa-45ff-8dd2-6d7448f58155"
      },
      "outputs": [
        {
          "output_type": "stream",
          "name": "stdout",
          "text": [
            "Mounted at /content/drive\n"
          ]
        }
      ],
      "source": [
        "from google.colab import drive\n",
        "drive.mount('/content/drive')"
      ]
    },
    {
      "cell_type": "code",
      "source": [
        "!pip install kaggle"
      ],
      "metadata": {
        "id": "WDQcEPrAKLNc",
        "colab": {
          "base_uri": "https://localhost:8080/"
        },
        "outputId": "3e69bdfc-b2ab-4ad1-dc55-a79aff375524"
      },
      "execution_count": 2,
      "outputs": [
        {
          "output_type": "stream",
          "name": "stdout",
          "text": [
            "Requirement already satisfied: kaggle in /usr/local/lib/python3.10/dist-packages (1.6.17)\n",
            "Requirement already satisfied: six>=1.10 in /usr/local/lib/python3.10/dist-packages (from kaggle) (1.17.0)\n",
            "Requirement already satisfied: certifi>=2023.7.22 in /usr/local/lib/python3.10/dist-packages (from kaggle) (2024.12.14)\n",
            "Requirement already satisfied: python-dateutil in /usr/local/lib/python3.10/dist-packages (from kaggle) (2.8.2)\n",
            "Requirement already satisfied: requests in /usr/local/lib/python3.10/dist-packages (from kaggle) (2.32.3)\n",
            "Requirement already satisfied: tqdm in /usr/local/lib/python3.10/dist-packages (from kaggle) (4.67.1)\n",
            "Requirement already satisfied: python-slugify in /usr/local/lib/python3.10/dist-packages (from kaggle) (8.0.4)\n",
            "Requirement already satisfied: urllib3 in /usr/local/lib/python3.10/dist-packages (from kaggle) (2.2.3)\n",
            "Requirement already satisfied: bleach in /usr/local/lib/python3.10/dist-packages (from kaggle) (6.2.0)\n",
            "Requirement already satisfied: webencodings in /usr/local/lib/python3.10/dist-packages (from bleach->kaggle) (0.5.1)\n",
            "Requirement already satisfied: text-unidecode>=1.3 in /usr/local/lib/python3.10/dist-packages (from python-slugify->kaggle) (1.3)\n",
            "Requirement already satisfied: charset-normalizer<4,>=2 in /usr/local/lib/python3.10/dist-packages (from requests->kaggle) (3.4.0)\n",
            "Requirement already satisfied: idna<4,>=2.5 in /usr/local/lib/python3.10/dist-packages (from requests->kaggle) (3.10)\n"
          ]
        }
      ]
    },
    {
      "cell_type": "code",
      "source": [
        "!mkdir ~/.kaggle"
      ],
      "metadata": {
        "id": "CE7_IkDyLKOL"
      },
      "execution_count": 3,
      "outputs": []
    },
    {
      "cell_type": "code",
      "source": [
        "!cp \"/content/drive/MyDrive/Colab Notebooks/kaggle_api_credentials/kaggle.json\" ~/.kaggle/kaggle.json"
      ],
      "metadata": {
        "id": "fCw2cR90KwEV"
      },
      "execution_count": 4,
      "outputs": []
    },
    {
      "cell_type": "code",
      "source": [
        "!chmod 600 ~/.kaggle/kaggle.json"
      ],
      "metadata": {
        "id": "aeT_QxraLM5P"
      },
      "execution_count": 5,
      "outputs": []
    },
    {
      "cell_type": "code",
      "source": [
        "!kaggle datasets download -d vulamnguyen/rwf2000/"
      ],
      "metadata": {
        "id": "PWtkWV0kM2am",
        "colab": {
          "base_uri": "https://localhost:8080/"
        },
        "outputId": "c1cd302c-5390-4585-c276-ea169abd59d9"
      },
      "execution_count": 6,
      "outputs": [
        {
          "output_type": "stream",
          "name": "stdout",
          "text": [
            "Dataset URL: https://www.kaggle.com/datasets/vulamnguyen/rwf2000/versions/\n",
            "License(s): unknown\n",
            "Downloading rwf2000.zip to /content\n",
            "100% 11.5G/11.5G [08:40<00:00, 21.4MB/s]\n",
            "100% 11.5G/11.5G [08:40<00:00, 23.7MB/s]\n"
          ]
        }
      ]
    },
    {
      "cell_type": "code",
      "source": [
        "import os\n",
        "\n",
        "dataset_zip = \"rwf2000.zip\"\n",
        "\n",
        "destination_folder = \"/content/dataset\"\n",
        "\n",
        "os.makedirs(destination_folder, exist_ok=True)\n",
        "\n",
        "!unzip -q $dataset_zip -d $destination_folder"
      ],
      "metadata": {
        "id": "v12hAWMPOuPg",
        "colab": {
          "base_uri": "https://localhost:8080/"
        },
        "outputId": "b2cd60d0-520f-40e9-e1e7-ab8aa5388325"
      },
      "execution_count": 7,
      "outputs": [
        {
          "output_type": "stream",
          "name": "stdout",
          "text": [
            "error:  cannot create /content/dataset/RWF-2000/train/Fight/1060314╤ДтХХ╨╜╤Е╨│╨▓╤Е╨┤╨╣╤Ж╨й╨п╤Й╨Ц╨╗╤Й╨й╨▓╤Ж╨Р╨╡╤И╨╕тХС╤Е╨╛╨┤╤Ж╨ктФд╤Е╨Ъ╨л╤ДтХС╨Ы╤ДтХЧтХв╤ПтХЭ╨Ш╤Е╨Э╨о╤Й╨Ч╨б╤ЕтФВтЦС╤ПтХЭ╨Щ_17.avi\n",
            "        File name too long\n",
            "error:  cannot create /content/dataset/RWF-2000/train/Fight/╤ДтХХ╨┤╤Е╨╡тФВ╤Е╨╜╨а╤ЕтХС╨з╤Й╨Ч╨Ь╤Ж╨Щ╨г╤Ж╨отХв╤ПтХЭ╨Ь╤Е╨ЭтФд╤ЕтХЭ╨е╤Е╨Я╨б╤Ж╨етЦС╤Е╨а╨Э╤З╨дтХЦ╤Е╨╜╨а╤Е╨ЧтХС╤Ж╨Щ╨Ы╤ПтХЭ╨Ь╤Ж╨и╨┐╤ДтХЧ╨Р╤ДтХг╨Ш╤Е╨Ю╨п╤Е╨л╨░╤ПтХЭ╨п╤З╨л╨б╤Ж╨Ю╨╖╤Ж╨Ы╨Э╤ДтХХ╨Ы╤Е╨Х╨╕╤З╨╕╨Ы_urlgot_220.avi\n",
            "        File name too long\n",
            "error:  cannot create /content/dataset/RWF-2000/train/Fight/╤ДтХХ╨┤╤Е╨╡тФВ╤Е╨╜╨а╤ЕтХС╨з╤Й╨Ч╨Ь╤Ж╨Щ╨г╤Ж╨отХв╤ПтХЭ╨Ь╤Е╨ЭтФд╤ЕтХЭ╨е╤Е╨Я╨б╤Ж╨етЦС╤Е╨а╨Э╤З╨дтХЦ╤Е╨╜╨а╤Е╨ЧтХС╤Ж╨Щ╨Ы╤ПтХЭ╨Ь╤Ж╨и╨┐╤ДтХЧ╨Р╤ДтХг╨Ш╤Е╨Ю╨п╤Е╨л╨░╤ПтХЭ╨п╤З╨л╨б╤Ж╨Ю╨╖╤Ж╨Ы╨Э╤ДтХХ╨Ы╤Е╨Х╨╕╤З╨╕╨Ы_urlgot_221.avi\n",
            "        File name too long\n",
            "error:  cannot create /content/dataset/RWF-2000/train/Fight/╤Е╨а╨Ь╤И╨▒╨Ь╤И╨Р╨С╤Ж╨нтФР╤Е╨Я╨╗╤Ж╨н╨╡╤ЕтХХ╨╛╤ЖтФдтХЫ╤Ж╨Щ╨г╤Ж╨отХв╤ПтХЭ╨Ь╤ДтХХ╨Ы╤ДтХХ╨Р╤З╨╖╨в╤Ж╨м╨Щ╤ДтХСтХС╤И╨╖╨С╤Ж╨╜тХЧ╤З╨╡╨о╤ДтХС╨Ц╤ПтХЭ╨Ь╤З╨л╨б╤Ж╨Ю╨╖╤Ж╨Ы╨Э╤ДтХХ╨Ы╤Ж╨У╨╕╤З╨У╨Ш╤З╨дтХЧ╤Й╨н╨▓╤ПтХЭ╨С_urlgot_222.avi\n",
            "        File name too long\n",
            "error:  cannot create /content/dataset/RWF-2000/train/Fight/╤Е╨а╨Ь╤И╨▒╨Ь╤И╨Р╨С╤Ж╨нтФР╤Е╨Я╨╗╤Ж╨н╨╡╤ЕтХХ╨╛╤ЖтФдтХЫ╤Ж╨Щ╨г╤Ж╨отХв╤ПтХЭ╨Ь╤ДтХХ╨Ы╤ДтХХ╨Р╤З╨╖╨в╤Ж╨м╨Щ╤ДтХСтХС╤И╨╖╨С╤Ж╨╜тХЧ╤З╨╡╨о╤ДтХС╨Ц╤ПтХЭ╨Ь╤З╨л╨б╤Ж╨Ю╨╖╤Ж╨Ы╨Э╤ДтХХ╨Ы╤Ж╨У╨╕╤З╨У╨Ш╤З╨дтХЧ╤Й╨н╨▓╤ПтХЭ╨С_urlgot_223.avi\n",
            "        File name too long\n",
            "error:  cannot create /content/dataset/RWF-2000/train/Fight/╤Е╨а╨Ь╤И╨▒╨Ь╤И╨Р╨С╤Ж╨нтФР╤Е╨Я╨╗╤Ж╨н╨╡╤ЕтХХ╨╛╤ЖтФдтХЫ╤Ж╨Щ╨г╤Ж╨отХв╤ПтХЭ╨Ь╤ДтХХ╨Ы╤ДтХХ╨Р╤З╨╖╨в╤Ж╨м╨Щ╤ДтХСтХС╤И╨╖╨С╤Ж╨╜тХЧ╤З╨╡╨о╤ДтХС╨Ц╤ПтХЭ╨Ь╤З╨л╨б╤Ж╨Ю╨╖╤Ж╨Ы╨Э╤ДтХХ╨Ы╤Ж╨У╨╕╤З╨У╨Ш╤З╨дтХЧ╤Й╨н╨▓╤ПтХЭ╨С_urlgot_224.avi\n",
            "        File name too long\n",
            "error:  cannot create /content/dataset/RWF-2000/train/Fight/╤Е╨а╨Ю╤Е╨Ю╨╕╤Й╨Ч╨Ь╤Й╨н╨▓╤ДтХХ╨Р╤И╨╕╨Р╤ДтХХ╨Э╤Е╨а╨Ш╤ЕтЦСтЦТ╤ЕтХЭ╨Р╤Ж╨Щ╨г╤ПтХЭ╨Ь╤Ж╨Ы╨Щ╤Ж╨отХв╤Е╨Я╨и╤Ж╨Щ╨г╤Ж╨отХв╤ПтХЭ╨Ь╤З╨ЮтЦС╤Е╨мтХС╤ДтХХ╨Р╤З╨Щ╨Ч╤ЖтХЦтХЦ╤ДтХгтЦТ╤ПтХЭ╨Ь╤З╨л╨б╤Ж╨Ю╨╖╤Ж╨Ы╨Э╤ДтХХ╨Ы╤Е╨Х╨╕╤З╨╕╨Ы_urlgot_233.avi\n",
            "        File name too long\n",
            "error:  cannot create /content/dataset/RWF-2000/train/Fight/╤Е╨а╨Ю╤Е╨Ю╨╕╤Й╨Ч╨Ь╤Й╨н╨▓╤ДтХХ╨Р╤И╨╕╨Р╤ДтХХ╨Э╤Е╨а╨Ш╤ЕтЦСтЦТ╤ЕтХЭ╨Р╤Ж╨Щ╨г╤ПтХЭ╨Ь╤Ж╨Ы╨Щ╤Ж╨отХв╤Е╨Я╨и╤Ж╨Щ╨г╤Ж╨отХв╤ПтХЭ╨Ь╤З╨ЮтЦС╤Е╨мтХС╤ДтХХ╨Р╤З╨Щ╨Ч╤ЖтХЦтХЦ╤ДтХгтЦТ╤ПтХЭ╨Ь╤З╨л╨б╤Ж╨Ю╨╖╤Ж╨Ы╨Э╤ДтХХ╨Ы╤Е╨Х╨╕╤З╨╕╨Ы_urlgot_235.avi\n",
            "        File name too long\n",
            "error:  cannot create /content/dataset/RWF-2000/train/Fight/╤Е╨а╨Ю╤Е╨Ю╨╕╤Й╨Ч╨Ь╤Й╨н╨▓╤ДтХХ╨Р╤И╨╕╨Р╤ДтХХ╨Э╤Е╨а╨Ш╤ЕтЦСтЦТ╤ЕтХЭ╨Р╤Ж╨Щ╨г╤ПтХЭ╨Ь╤Ж╨Ы╨Щ╤Ж╨отХв╤Е╨Я╨и╤Ж╨Щ╨г╤Ж╨отХв╤ПтХЭ╨Ь╤З╨ЮтЦС╤Е╨мтХС╤ДтХХ╨Р╤З╨Щ╨Ч╤ЖтХЦтХЦ╤ДтХгтЦТ╤ПтХЭ╨Ь╤З╨л╨б╤Ж╨Ю╨╖╤Ж╨Ы╨Э╤ДтХХ╨Ы╤Е╨Х╨╕╤З╨╕╨Ы_urlgot_236.avi\n",
            "        File name too long\n",
            "error:  cannot create /content/dataset/RWF-2000/train/Fight/╤Е╨а╨Ю╤Е╨Ю╨╕╤Й╨Ч╨Ь╤Й╨н╨▓╤ДтХХ╨Р╤И╨╕╨Р╤ДтХХ╨Э╤Е╨а╨Ш╤ЕтЦСтЦТ╤ЕтХЭ╨Р╤Ж╨Щ╨г╤ПтХЭ╨Ь╤Ж╨Ы╨Щ╤Ж╨отХв╤Е╨Я╨и╤Ж╨Щ╨г╤Ж╨отХв╤ПтХЭ╨Ь╤З╨ЮтЦС╤Е╨мтХС╤ДтХХ╨Р╤З╨Щ╨Ч╤ЖтХЦтХЦ╤ДтХгтЦТ╤ПтХЭ╨Ь╤З╨л╨б╤Ж╨Ю╨╖╤Ж╨Ы╨Э╤ДтХХ╨Ы╤Е╨Х╨╕╤З╨╕╨Ы_urlgot_237.avi\n",
            "        File name too long\n",
            "error:  cannot create /content/dataset/RWF-2000/train/Fight/╤Е╨а╨Ю╤Е╨Ю╨╕╤Й╨Ч╨Ь╤Й╨н╨▓╤ДтХХ╨Р╤И╨╕╨Р╤ДтХХ╨Э╤Е╨а╨Ш╤ЕтЦСтЦТ╤ЕтХЭ╨Р╤Ж╨Щ╨г╤ПтХЭ╨Ь╤Ж╨Ы╨Щ╤Ж╨отХв╤Е╨Я╨и╤Ж╨Щ╨г╤Ж╨отХв╤ПтХЭ╨Ь╤З╨ЮтЦС╤Е╨мтХС╤ДтХХ╨Р╤З╨Щ╨Ч╤ЖтХЦтХЦ╤ДтХгтЦТ╤ПтХЭ╨Ь╤З╨л╨б╤Ж╨Ю╨╖╤Ж╨Ы╨Э╤ДтХХ╨Ы╤Е╨Х╨╕╤З╨╕╨Ы_urlgot_238.avi\n",
            "        File name too long\n",
            "error:  cannot create /content/dataset/RWF-2000/train/Fight/╤Е╨а╨Ю╤Е╨Ю╨╕╤Й╨Ч╨Ь╤Й╨н╨▓╤ДтХХ╨Р╤И╨╕╨Р╤ДтХХ╨Э╤Е╨а╨Ш╤ЕтЦСтЦТ╤ЕтХЭ╨Р╤Ж╨Щ╨г╤ПтХЭ╨Ь╤Ж╨Ы╨Щ╤Ж╨отХв╤Е╨Я╨и╤Ж╨Щ╨г╤Ж╨отХв╤ПтХЭ╨Ь╤З╨ЮтЦС╤Е╨мтХС╤ДтХХ╨Р╤З╨Щ╨Ч╤ЖтХЦтХЦ╤ДтХгтЦТ╤ПтХЭ╨Ь╤З╨л╨б╤Ж╨Ю╨╖╤Ж╨Ы╨Э╤ДтХХ╨Ы╤Е╨Х╨╕╤З╨╕╨Ы_urlgot_242.avi\n",
            "        File name too long\n",
            "error:  cannot create /content/dataset/RWF-2000/train/Fight/╤Е╨┤╨╖╤Й╨й╨Ц╤З╨а╨Ц╤Е╨Я╨б╤ЕтХС╨з╤Е╨Я╨б╤З╨д╨п╤З╨░╨Э╤ДтХСтХС╤ДтХС╨Ы╤ДтХЧтХв╤ПтХЭ╨Ь╤ДтХХ╨Ы╤Ж╨Щ╨Ы╤З╨м╨п╤З╨Ы╨░╤ПтХЭ╨С_urlgot_121.avi\n",
            "        File name too long\n",
            "error:  cannot create /content/dataset/RWF-2000/train/Fight/╤Е╨┤╨╖╤Й╨й╨Ц╤З╨а╨Ц╤Е╨Я╨б╤ЕтХС╨з╤Е╨Я╨б╤З╨д╨п╤З╨░╨Э╤ДтХСтХС╤ДтХС╨Ы╤ДтХЧтХв╤ПтХЭ╨Ь╤ДтХХ╨Ы╤Ж╨Щ╨Ы╤З╨м╨п╤З╨Ы╨░╤ПтХЭ╨С_urlgot_122.avi\n",
            "        File name too long\n",
            "error:  cannot create /content/dataset/RWF-2000/train/Fight/╤Е╨┤╨╖╤Й╨й╨Ц╤З╨а╨Ц╤Е╨Я╨б╤ЕтХС╨з╤Е╨Я╨б╤З╨д╨п╤З╨░╨Э╤ДтХСтХС╤ДтХС╨Ы╤ДтХЧтХв╤ПтХЭ╨Ь╤ДтХХ╨Ы╤Ж╨Щ╨Ы╤З╨м╨п╤З╨Ы╨░╤ПтХЭ╨С_urlgot_123.avi\n",
            "        File name too long\n",
            "error:  cannot create /content/dataset/RWF-2000/train/Fight/╤Е╨┤╨╖╤Й╨й╨Ц╤З╨а╨Ц╤Е╨Я╨б╤ЕтХС╨з╤Е╨Я╨б╤З╨д╨п╤З╨░╨Э╤ДтХСтХС╤ДтХС╨Ы╤ДтХЧтХв╤ПтХЭ╨Ь╤ДтХХ╨Ы╤Ж╨Щ╨Ы╤З╨м╨п╤З╨Ы╨░╤ПтХЭ╨С_urlgot_127.avi\n",
            "        File name too long\n",
            "error:  cannot create /content/dataset/RWF-2000/train/Fight/╤Е╨╢╨Т╤Ж╨о╨м╤ДтХХ╨Э╤Ж╨и╨┐╤З╨л╨б╤Ж╨Ю╨╖,╤ИтЦС╨С╤ДтХЭ╨к╤З╨лтХХ╤ДтФР╨▒╤ЕтЦС╨Я╤ДтХЭ╨й╤ДтХХтХС╤ДтХС╨Ц╤Ж╨Щ╨г╤Ж╨отХв╤З╨лтФд╤Ж╨Ю╨╡╤ДтХЧ╨Ю╤ДтХС╨Ь╤Ж╨╡тХЭ╤ИтХЦтФВ╤ДтХХ╨Ы╤Е╨ЮтХЧ_urlgot_254.avi\n",
            "        File name too long\n",
            "error:  cannot create /content/dataset/RWF-2000/train/Fight/╤ЕтХгтФР╤ДтХХ╨м╤З╨м╨С╤ЖтЦТ╨е╤Е╨┤тФд╤ЕтХХ╨Т╤ЖтХЬ╨╛╤Й╨итФВ╤Е╨ЬтХС╤Й╨г╨м╤З╨л╨Т╤Й╨е╨Ч╤ЖтЦУтФВ╤Й╨й╨Ч╤Ж╨н╨б╤Ж╨ктФд╤Е╨Ъ╨л╤ДтХС╨Ы╤ДтХЧтХв╤З╨л╨б╤Ж╨Ю╨╖╤И╨╖╨Ц╤Й╨▓╨б2_urlgot_138.avi\n",
            "        File name too long\n",
            "error:  cannot create /content/dataset/RWF-2000/train/Fight/╤ЕтХгтФР╤ДтХХ╨м╤З╨м╨С╤ЖтЦТ╨е╤Е╨┤тФд╤ЕтХХ╨Т╤ЖтХЬ╨╛╤Й╨итФВ╤Е╨ЬтХС╤Й╨г╨м╤З╨л╨Т╤Й╨е╨Ч╤ЖтЦУтФВ╤Й╨й╨Ч╤Ж╨н╨б╤Ж╨ктФд╤Е╨Ъ╨л╤ДтХС╨Ы╤ДтХЧтХв╤З╨л╨б╤Ж╨Ю╨╖╤И╨╖╨Ц╤Й╨▓╨б2_urlgot_139.avi\n",
            "        File name too long\n",
            "error:  cannot create /content/dataset/RWF-2000/train/Fight/╤ЕтХгтФР╤ДтХХ╨м╤З╨м╨С╤ЖтЦТ╨е╤Е╨┤тФд╤ЕтХХ╨Т╤ЖтХЬ╨╛╤Й╨итФВ╤Е╨ЬтХС╤Й╨г╨м╤З╨л╨Т╤Й╨е╨Ч╤ЖтЦУтФВ╤Й╨й╨Ч╤Ж╨н╨б╤Ж╨ктФд╤Е╨Ъ╨л╤ДтХС╨Ы╤ДтХЧтХв╤З╨л╨б╤Ж╨Ю╨╖╤И╨╖╨Ц╤Й╨▓╨б2_urlgot_140.avi\n",
            "        File name too long\n",
            "error:  cannot create /content/dataset/RWF-2000/train/Fight/╤ЕтХгтФР╤ДтХХ╨м╤З╨м╨С╤ЖтЦТ╨е╤Е╨┤тФд╤ЕтХХ╨Т╤ЖтХЬ╨╛╤Й╨итФВ╤Е╨ЬтХС╤Й╨г╨м╤З╨л╨Т╤Й╨е╨Ч╤ЖтЦУтФВ╤Й╨й╨Ч╤Ж╨н╨б╤Ж╨ктФд╤Е╨Ъ╨л╤ДтХС╨Ы╤ДтХЧтХв╤З╨л╨б╤Ж╨Ю╨╖╤И╨╖╨Ц╤Й╨▓╨б2_urlgot_141.avi\n",
            "        File name too long\n",
            "error:  cannot create /content/dataset/RWF-2000/train/Fight/╤З╨л╨б╤Ж╨Ю╨╖╤Ж╨Ы╨Э╤ДтХХ╨Ы╤Й╨┤╨а╤Е╨Ю╨Х╤ДтХХ╨Р╤ЗтХЫ╨┤╤ЕтЦС╨Я╤ДтХЭ╨й╤Ж╨Щ╨г╤Ж╨отХв╤Ж╨ж╨з╤Ж╨╛тФд ╤И╨Р╨С╤Ж╨нтФР╤З╨о╨╝╤Й╨зтФд╤Е╨Я╨б╤Й╨│╨й╤ДтХС╨Ц_urlgot_267.avi\n",
            "        File name too long\n",
            "error:  cannot create /content/dataset/RWF-2000/train/Fight/╤З╨л╨б╤Ж╨Ю╨╖╤Ж╨Ы╨Э╤ДтХХ╨Ы╤Й╨┤╨а╤Е╨Ю╨Х╤ДтХХ╨Р╤ЗтХЫ╨┤╤ЕтЦС╨Я╤ДтХЭ╨й╤Ж╨Щ╨г╤Ж╨отХв╤Ж╨ж╨з╤Ж╨╛тФд ╤И╨Р╨С╤Ж╨нтФР╤З╨о╨╝╤Й╨зтФд╤Е╨Я╨б╤Й╨│╨й╤ДтХС╨Ц_urlgot_268.avi\n",
            "        File name too long\n",
            "error:  cannot create /content/dataset/RWF-2000/train/Fight/╤З╨л╨б╤Ж╨Ю╨╖╤Ж╨Ы╨Э╤ДтХХ╨Ы╤Й╨┤╨а╤Е╨Ю╨Х╤ДтХХ╨Р╤ЗтХЫ╨┤╤ЕтЦС╨Я╤ДтХЭ╨й╤Ж╨Щ╨г╤Ж╨отХв╤Ж╨ж╨з╤Ж╨╛тФд ╤И╨Р╨С╤Ж╨нтФР╤З╨о╨╝╤Й╨зтФд╤Е╨Я╨б╤Й╨│╨й╤ДтХС╨Ц_urlgot_279.avi\n",
            "        File name too long\n"
          ]
        }
      ]
    },
    {
      "cell_type": "code",
      "source": [
        "import os\n",
        "import cv2\n",
        "import numpy as np\n",
        "import pandas as pd\n",
        "from sklearn.model_selection import train_test_split\n",
        "import tensorflow as tf\n",
        "from tensorflow.keras import layers, models\n",
        "from tensorflow.keras.applications import EfficientNetV2B0\n",
        "from tensorflow.keras.callbacks import ModelCheckpoint, EarlyStopping, ReduceLROnPlateau"
      ],
      "metadata": {
        "id": "4jxTxjFcRkq1"
      },
      "execution_count": 8,
      "outputs": []
    },
    {
      "cell_type": "code",
      "source": [
        "def prepare_data(data_dir):\n",
        "    train_dir = os.path.join(data_dir, 'train')\n",
        "    val_dir = os.path.join(data_dir, 'val')\n",
        "\n",
        "    train_fight_dir = os.path.join(train_dir, 'Fight')\n",
        "    train_nonfight_dir = os.path.join(train_dir, 'NonFight')\n",
        "\n",
        "    train_fight_videos = [os.path.join(train_fight_dir, f) for f in os.listdir(train_fight_dir)]\n",
        "    train_nonfight_videos = [os.path.join(train_nonfight_dir, f) for f in os.listdir(train_nonfight_dir)]\n",
        "\n",
        "    train_paths = train_fight_videos + train_nonfight_videos\n",
        "    train_labels = [1] * len(train_fight_videos) + [0] * len(train_nonfight_videos)\n",
        "\n",
        "    val_fight_dir = os.path.join(val_dir, 'Fight')\n",
        "    val_nonfight_dir = os.path.join(val_dir, 'NonFight')\n",
        "\n",
        "    val_fight_videos = [os.path.join(val_fight_dir, f) for f in os.listdir(val_fight_dir)]\n",
        "    val_nonfight_videos = [os.path.join(val_nonfight_dir, f) for f in os.listdir(val_nonfight_dir)]\n",
        "\n",
        "    val_paths = val_fight_videos + val_nonfight_videos\n",
        "    val_labels = [1] * len(val_fight_videos) + [0] * len(val_nonfight_videos)\n",
        "\n",
        "    train_generator = VideoDataGenerator(\n",
        "        train_paths,\n",
        "        train_labels,\n",
        "        batch_size=CONFIG['batch_size'],\n",
        "        num_frames=CONFIG['num_frames'],\n",
        "        img_size=CONFIG['img_size'],\n",
        "        is_training=True\n",
        "    )\n",
        "\n",
        "    val_generator = VideoDataGenerator(\n",
        "        val_paths,\n",
        "        val_labels,\n",
        "        batch_size=CONFIG['batch_size'],\n",
        "        num_frames=CONFIG['num_frames'],\n",
        "        img_size=CONFIG['img_size'],\n",
        "        is_training=False\n",
        "    )\n",
        "\n",
        "    return train_generator, val_generator"
      ],
      "metadata": {
        "id": "647MLYtFRfmq"
      },
      "execution_count": 9,
      "outputs": []
    },
    {
      "cell_type": "code",
      "source": [
        "# Configuration\n",
        "CONFIG = {\n",
        "    'seed': 42,\n",
        "    'img_size': 224,\n",
        "    'num_frames': 32,\n",
        "    'batch_size': 8,\n",
        "    'epochs': 50,\n",
        "    'learning_rate': 1e-4\n",
        "}\n",
        "\n",
        "class VideoDataGenerator(tf.keras.utils.Sequence):\n",
        "    def __init__(self, video_paths, labels, batch_size=8, num_frames=32, img_size=224, is_training=True, **kwargs):\n",
        "        super().__init__(**kwargs)\n",
        "        self.video_paths = video_paths\n",
        "        self.labels = labels\n",
        "        self.batch_size = batch_size\n",
        "        self.num_frames = num_frames\n",
        "        self.img_size = img_size\n",
        "        self.is_training = is_training\n",
        "\n",
        "    def __len__(self):\n",
        "        return len(self.video_paths) // self.batch_size\n",
        "\n",
        "    def __getitem__(self, idx):\n",
        "        batch_videos = self.video_paths[idx * self.batch_size:(idx + 1) * self.batch_size]\n",
        "        batch_labels = self.labels[idx * self.batch_size:(idx + 1) * self.batch_size]\n",
        "\n",
        "        # Initialize batch arrays\n",
        "        X = np.zeros((self.batch_size, self.num_frames, self.img_size, self.img_size, 3))\n",
        "        y = np.zeros(self.batch_size)\n",
        "\n",
        "        for i, (video_path, label) in enumerate(zip(batch_videos, batch_labels)):\n",
        "            frames = self._load_video(video_path)\n",
        "            X[i] = frames\n",
        "            y[i] = label\n",
        "\n",
        "        return X, y\n",
        "\n",
        "    def _load_video(self, video_path):\n",
        "        cap = cv2.VideoCapture(video_path)\n",
        "        frames = []\n",
        "        frame_count = int(cap.get(cv2.CAP_PROP_FRAME_COUNT))\n",
        "\n",
        "        frame_indices = np.linspace(0, frame_count-1, self.num_frames, dtype=int)\n",
        "\n",
        "        for idx in frame_indices:\n",
        "            cap.set(cv2.CAP_PROP_POS_FRAMES, idx)\n",
        "            ret, frame = cap.read()\n",
        "            if ret:\n",
        "                frame = cv2.resize(frame, (self.img_size, self.img_size))\n",
        "                frame = cv2.cvtColor(frame, cv2.COLOR_BGR2RGB)\n",
        "                frame = frame / 255.0\n",
        "                frames.append(frame)\n",
        "\n",
        "        cap.release()\n",
        "        return np.array(frames)\n",
        "\n",
        "\n",
        "\n",
        "\n"
      ],
      "metadata": {
        "id": "bIuNrvI9RUbu"
      },
      "execution_count": 10,
      "outputs": []
    },
    {
      "cell_type": "code",
      "source": [
        "def build_model():\n",
        "    inputs = layers.Input(shape=(CONFIG['num_frames'], CONFIG['img_size'], CONFIG['img_size'], 3))\n",
        "\n",
        "    base_model = EfficientNetV2B0(\n",
        "        include_top=False,\n",
        "        weights='imagenet',\n",
        "        input_shape=(CONFIG['img_size'], CONFIG['img_size'], 3)\n",
        "    )\n",
        "\n",
        "    base_model.trainable = False\n",
        "\n",
        "    x = tf.keras.layers.TimeDistributed(base_model)(inputs)\n",
        "\n",
        "    #3D convolution layers for temporal processing\n",
        "    x = layers.Conv3D(512, kernel_size=(3, 3, 3), padding='same')(x)\n",
        "    x = layers.BatchNormalization()(x)\n",
        "    x = layers.ReLU()(x)\n",
        "    x = layers.MaxPooling3D(pool_size=(2, 2, 2))(x)\n",
        "\n",
        "    x = layers.Conv3D(256, kernel_size=(3, 3, 3), padding='same')(x)\n",
        "    x = layers.BatchNormalization()(x)\n",
        "    x = layers.ReLU()(x)\n",
        "    x = layers.MaxPooling3D(pool_size=(2, 2, 2))(x)\n",
        "\n",
        "    x = layers.GlobalAveragePooling3D()(x)\n",
        "\n",
        "    x = layers.Dense(512, activation='relu')(x)\n",
        "    x = layers.Dropout(0.5)(x)\n",
        "    x = layers.Dense(256, activation='relu')(x)\n",
        "    x = layers.Dropout(0.3)(x)\n",
        "    outputs = layers.Dense(1, activation='sigmoid')(x)\n",
        "\n",
        "    model = models.Model(inputs=inputs, outputs=outputs)\n",
        "    return model"
      ],
      "metadata": {
        "id": "-2h0MfLhRvow"
      },
      "execution_count": 11,
      "outputs": []
    },
    {
      "cell_type": "code",
      "source": [
        "def train_model(train_generator, val_generator):\n",
        "    model = build_model()\n",
        "\n",
        "    optimizer = tf.keras.optimizers.Adam(learning_rate=CONFIG['learning_rate'])\n",
        "    model.compile(\n",
        "        optimizer=optimizer,\n",
        "        loss='binary_crossentropy',\n",
        "        metrics=['accuracy', tf.keras.metrics.AUC()]\n",
        "    )\n",
        "\n",
        "    callbacks = [\n",
        "        ModelCheckpoint(\n",
        "            'best_model.keras',\n",
        "            monitor='val_accuracy',\n",
        "            save_best_only=True,\n",
        "            mode='max',\n",
        "            verbose=1\n",
        "        ),\n",
        "        EarlyStopping(\n",
        "            monitor='val_loss',\n",
        "            patience=10,\n",
        "            restore_best_weights=True,\n",
        "            verbose=1\n",
        "        ),\n",
        "        ReduceLROnPlateau(\n",
        "            monitor='val_loss',\n",
        "            factor=0.2,\n",
        "            patience=5,\n",
        "            min_lr=1e-6,\n",
        "            verbose=1\n",
        "        )\n",
        "    ]\n",
        "\n",
        "    history = model.fit(\n",
        "        train_generator,\n",
        "        validation_data=val_generator,\n",
        "        epochs=CONFIG['epochs'],\n",
        "        callbacks=callbacks,\n",
        "    )\n",
        "\n",
        "    return model, history"
      ],
      "metadata": {
        "id": "SSr4JZZ1Rsi_"
      },
      "execution_count": 12,
      "outputs": []
    },
    {
      "cell_type": "code",
      "source": [
        "\n",
        "def main():\n",
        "    tf.random.set_seed(CONFIG['seed'])\n",
        "    np.random.seed(CONFIG['seed'])\n",
        "\n",
        "    data_dir = '/content/dataset/RWF-2000'\n",
        "    train_generator, val_generator = prepare_data(data_dir)\n",
        "\n",
        "    model, history = train_model(train_generator, val_generator)\n",
        "\n",
        "    pd.DataFrame(history.history).to_csv('training_history.csv')\n",
        "\n",
        "    print(\"Training completed!\")\n",
        "\n",
        "if __name__ == \"__main__\":\n",
        "    main()"
      ],
      "metadata": {
        "colab": {
          "base_uri": "https://localhost:8080/"
        },
        "id": "WlsLS-GKRWrP",
        "outputId": "6fd12474-2962-4763-80a1-36a2cf8777ec"
      },
      "execution_count": null,
      "outputs": [
        {
          "output_type": "stream",
          "name": "stdout",
          "text": [
            "Downloading data from https://storage.googleapis.com/tensorflow/keras-applications/efficientnet_v2/efficientnetv2-b0_notop.h5\n",
            "\u001b[1m24274472/24274472\u001b[0m \u001b[32m━━━━━━━━━━━━━━━━━━━━\u001b[0m\u001b[37m\u001b[0m \u001b[1m2s\u001b[0m 0us/step\n",
            "Epoch 1/50\n",
            "\u001b[1m197/197\u001b[0m \u001b[32m━━━━━━━━━━━━━━━━━━━━\u001b[0m\u001b[37m\u001b[0m \u001b[1m0s\u001b[0m 5s/step - accuracy: 0.4480 - auc: 0.4141 - loss: 0.9978\n",
            "Epoch 1: val_accuracy improved from -inf to 0.50000, saving model to best_model.keras\n",
            "\u001b[1m197/197\u001b[0m \u001b[32m━━━━━━━━━━━━━━━━━━━━\u001b[0m\u001b[37m\u001b[0m \u001b[1m2330s\u001b[0m 8s/step - accuracy: 0.4482 - auc: 0.4143 - loss: 0.9972 - val_accuracy: 0.5000 - val_auc: 0.5126 - val_loss: 1.0037 - learning_rate: 1.0000e-04\n",
            "Epoch 2/50\n",
            "\u001b[1m197/197\u001b[0m \u001b[32m━━━━━━━━━━━━━━━━━━━━\u001b[0m\u001b[37m\u001b[0m \u001b[1m0s\u001b[0m 5s/step - accuracy: 0.4821 - auc: 0.4549 - loss: 0.7927\n",
            "Epoch 2: val_accuracy did not improve from 0.50000\n",
            "\u001b[1m197/197\u001b[0m \u001b[32m━━━━━━━━━━━━━━━━━━━━\u001b[0m\u001b[37m\u001b[0m \u001b[1m1431s\u001b[0m 7s/step - accuracy: 0.4821 - auc: 0.4550 - loss: 0.7926 - val_accuracy: 0.5000 - val_auc: 0.5000 - val_loss: 0.7176 - learning_rate: 1.0000e-04\n",
            "Epoch 3/50\n",
            "\u001b[1m197/197\u001b[0m \u001b[32m━━━━━━━━━━━━━━━━━━━━\u001b[0m\u001b[37m\u001b[0m \u001b[1m0s\u001b[0m 5s/step - accuracy: 0.4907 - auc: 0.4235 - loss: 0.7409\n",
            "Epoch 3: val_accuracy did not improve from 0.50000\n",
            "\u001b[1m197/197\u001b[0m \u001b[32m━━━━━━━━━━━━━━━━━━━━\u001b[0m\u001b[37m\u001b[0m \u001b[1m1431s\u001b[0m 7s/step - accuracy: 0.4907 - auc: 0.4237 - loss: 0.7408 - val_accuracy: 0.5000 - val_auc: 0.4425 - val_loss: 0.6978 - learning_rate: 1.0000e-04\n",
            "Epoch 4/50\n",
            "\u001b[1m181/197\u001b[0m \u001b[32m━━━━━━━━━━━━━━━━━━\u001b[0m\u001b[37m━━\u001b[0m \u001b[1m1:31\u001b[0m 6s/step - accuracy: 0.4876 - auc: 0.4620 - loss: 0.7194"
          ]
        }
      ]
    }
  ]
}